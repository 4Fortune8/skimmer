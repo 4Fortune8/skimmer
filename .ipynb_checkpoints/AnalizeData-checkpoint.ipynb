{
 "cells": [
  {
   "cell_type": "code",
   "execution_count": 1,
   "id": "9c656dcc-b88f-4ba1-8971-d2fb9b6991b3",
   "metadata": {},
   "outputs": [],
   "source": [
    "#AnalizeData"
   ]
  },
  {
   "cell_type": "code",
   "execution_count": 3,
   "id": "0aa075c5-4580-4324-ab0f-118baea83d2c",
   "metadata": {
    "editable": true,
    "slideshow": {
     "slide_type": ""
    },
    "tags": []
   },
   "outputs": [],
   "source": [
    "import pandas as pd\n",
    "import numpy as np"
   ]
  },
  {
   "cell_type": "code",
   "execution_count": 68,
   "id": "fb81436a-3fc2-464a-adc1-2ddee023af1f",
   "metadata": {},
   "outputs": [
    {
     "data": {
      "text/html": [
       "<div>\n",
       "<style scoped>\n",
       "    .dataframe tbody tr th:only-of-type {\n",
       "        vertical-align: middle;\n",
       "    }\n",
       "\n",
       "    .dataframe tbody tr th {\n",
       "        vertical-align: top;\n",
       "    }\n",
       "\n",
       "    .dataframe thead th {\n",
       "        text-align: right;\n",
       "    }\n",
       "</style>\n",
       "<table border=\"1\" class=\"dataframe\">\n",
       "  <thead>\n",
       "    <tr style=\"text-align: right;\">\n",
       "      <th></th>\n",
       "      <th>chanel</th>\n",
       "      <th>subs</th>\n",
       "      <th>newsubs</th>\n",
       "      <th>monthly_change_subs</th>\n",
       "      <th>newviews</th>\n",
       "      <th>monthy_change_views</th>\n",
       "    </tr>\n",
       "  </thead>\n",
       "  <tbody>\n",
       "    <tr>\n",
       "      <th>0</th>\n",
       "      <td>BenAzelart</td>\n",
       "      <td>26900000</td>\n",
       "      <td>800000</td>\n",
       "      <td>12.5</td>\n",
       "      <td>304257000</td>\n",
       "      <td>28.2</td>\n",
       "    </tr>\n",
       "    <tr>\n",
       "      <th>1</th>\n",
       "      <td>ComePlayWithMe</td>\n",
       "      <td>15300000</td>\n",
       "      <td>200000</td>\n",
       "      <td>100.0</td>\n",
       "      <td>133854000</td>\n",
       "      <td>3.3</td>\n",
       "    </tr>\n",
       "    <tr>\n",
       "      <th>2</th>\n",
       "      <td>GLITCH</td>\n",
       "      <td>9780000</td>\n",
       "      <td>1190000</td>\n",
       "      <td>172.7</td>\n",
       "      <td>116172000</td>\n",
       "      <td>70.4</td>\n",
       "    </tr>\n",
       "    <tr>\n",
       "      <th>3</th>\n",
       "      <td>CboysTV</td>\n",
       "      <td>3470000</td>\n",
       "      <td>120000</td>\n",
       "      <td>8.3</td>\n",
       "      <td>45475000</td>\n",
       "      <td>1.4</td>\n",
       "    </tr>\n",
       "    <tr>\n",
       "      <th>4</th>\n",
       "      <td>VladandNiki</td>\n",
       "      <td>117000000</td>\n",
       "      <td>1000000</td>\n",
       "      <td>-0.0</td>\n",
       "      <td>1214000000</td>\n",
       "      <td>23.3</td>\n",
       "    </tr>\n",
       "  </tbody>\n",
       "</table>\n",
       "</div>"
      ],
      "text/plain": [
       "           chanel       subs  newsubs monthly_change_subs    newviews  \\\n",
       "0      BenAzelart   26900000   800000                12.5   304257000   \n",
       "1  ComePlayWithMe   15300000   200000               100.0   133854000   \n",
       "2          GLITCH    9780000  1190000               172.7   116172000   \n",
       "3         CboysTV    3470000   120000                 8.3    45475000   \n",
       "4     VladandNiki  117000000  1000000                -0.0  1214000000   \n",
       "\n",
       "  monthy_change_views  \n",
       "0                28.2  \n",
       "1                 3.3  \n",
       "2                70.4  \n",
       "3                 1.4  \n",
       "4                23.3  "
      ]
     },
     "execution_count": 68,
     "metadata": {},
     "output_type": "execute_result"
    }
   ],
   "source": [
    "YoutubeProfiles = pd.read_csv('data\\profiles\\profiles2024-5.csv')\n",
    "YoutubeProfiles.head()\n"
   ]
  },
  {
   "cell_type": "code",
   "execution_count": 69,
   "id": "f7c899f0-50b0-4e87-9e2d-eb7c6702cd8a",
   "metadata": {},
   "outputs": [],
   "source": [
    "\n",
    "SmallChannels = YoutubeProfiles[YoutubeProfiles['subs'] < 500000]\n",
    "MediumChannels = YoutubeProfiles[(YoutubeProfiles['subs'] > 500000) & (YoutubeProfiles['subs'] < 1000000)]\n",
    "LargeChannels= YoutubeProfiles[(YoutubeProfiles['subs'] > 1000000) & (YoutubeProfiles['subs'] < 3000000)]\n",
    "MassiveChannels = YoutubeProfiles[YoutubeProfiles['subs'] > 3000000]\n"
   ]
  },
  {
   "cell_type": "code",
   "execution_count": 72,
   "id": "c6db5edf-5718-4a67-9a73-6aa18c287ae2",
   "metadata": {},
   "outputs": [
    {
     "name": "stdout",
     "output_type": "stream",
     "text": [
      "                chanel    subs  newsubs monthly_change_subs  newviews  \\\n",
      "10              moreaj  550000    44000               -12.2   5502000   \n",
      "13          MightyGoat  664000     5000               -44.4   2128000   \n",
      "14          wongkim728  735000     6000               -14.3  15423000   \n",
      "17       TheSketchReal  453000   144000                16.8  61716000   \n",
      "18  Dxntemadeit2-fr5el     490       -2               -33.3       734   \n",
      "\n",
      "   monthy_change_views  \n",
      "10                 1.6  \n",
      "13               -19.1  \n",
      "14                 -10  \n",
      "17               -50.0  \n",
      "18               -50.5  \n"
     ]
    }
   ],
   "source": [
    "SmallChannels = SmallChannels.sort_values('monthly_change_subs', ascending=False)\n",
    "SmallChannels.reset_index(drop=True)\n",
    "print(SmallChanels)"
   ]
  },
  {
   "cell_type": "code",
   "execution_count": null,
   "id": "19f53d44-f8a9-445b-9235-992f2c054c38",
   "metadata": {},
   "outputs": [],
   "source": []
  }
 ],
 "metadata": {
  "kernelspec": {
   "display_name": "Python 3 (ipykernel)",
   "language": "python",
   "name": "python3"
  },
  "language_info": {
   "codemirror_mode": {
    "name": "ipython",
    "version": 3
   },
   "file_extension": ".py",
   "mimetype": "text/x-python",
   "name": "python",
   "nbconvert_exporter": "python",
   "pygments_lexer": "ipython3",
   "version": "3.10.11"
  }
 },
 "nbformat": 4,
 "nbformat_minor": 5
}
