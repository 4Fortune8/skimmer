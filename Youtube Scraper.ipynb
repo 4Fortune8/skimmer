{
 "cells": [
  {
   "cell_type": "code",
   "execution_count": 173,
   "id": "f1cb0426-5e8b-471e-889a-bb2fb9aa0585",
   "metadata": {},
   "outputs": [],
   "source": [
    "from selenium import webdriver\n",
    "from selenium.webdriver.common.by import By\n",
    "from selenium.webdriver.common.action_chains import ActionChains\n",
    "from selenium.webdriver.support import expected_conditions\n",
    "from selenium.webdriver.support.wait import WebDriverWait\n",
    "from selenium.webdriver.common.keys import Keys\n",
    "from selenium.webdriver.common.desired_capabilities import DesiredCapabilities\n",
    "\n",
    "from selenium.webdriver.support import expected_conditions as EC\n",
    "import time\n",
    "\n",
    "# Initialize the Firefox webdriver\n",
    "driver = webdriver.Firefox()\n",
    "\n",
    "# Navigate to the webpage\n",
    "driver.get('https://www.youtube.com')\n",
    "\n",
    "# Find all elements with the class name 'ytd-video-meta-block'\n",
    "wait = WebDriverWait(driver, 10)\n",
    "element = wait.until(EC.presence_of_element_located((By.CSS_SELECTOR, \"html body ytd-app div#content.style-scope.ytd-app ytd-mini-guide-renderer.style-scope.ytd-app div#items.style-scope.ytd-mini-guide-renderer ytd-mini-guide-entry-renderer.style-scope.ytd-mini-guide-renderer a#endpoint.yt-simple-endpoint.style-scope.ytd-mini-guide-entry-renderer yt-icon#icon.guide-icon.style-scope.ytd-mini-guide-entry-renderer yt-icon-shape.style-scope.yt-icon icon-shape.yt-spec-icon-shape div\")))\n",
    "\n",
    "\n",
    "driver.find_element(By.CSS_SELECTOR, \".ytd-mini-guide-renderer:nth-child(2) > #endpoint\").click()\n",
    "\n",
    "time.sleep(3)  # Wait for 3 seconds\n",
    "scrollable_element = driver.find_element(By.CSS_SELECTOR, \"html body ytd-app div#content.style-scope.ytd-app ytd-page-manager#page-manager.style-scope.ytd-app ytd-shorts.style-scope.ytd-page-manager div#shorts-container.style-scope.ytd-shorts\")\n",
    "driver.execute_script('arguments[0].scrollTop = arguments[0].scrollHeight;', scrollable_element)\n",
    "\n",
    "time.sleep(3)  # Wait for 3 seconds\n",
    "scrollable_element = driver.find_element(By.CSS_SELECTOR, \"html body ytd-app div#content.style-scope.ytd-app ytd-page-manager#page-manager.style-scope.ytd-app ytd-shorts.style-scope.ytd-page-manager div#shorts-container.style-scope.ytd-shorts\")\n",
    "driver.execute_script('arguments[0].scrollTop = arguments[0].scrollHeight;', scrollable_element)\n",
    "time.sleep(3)  # Wait for 3 seconds\n",
    "scrollable_element = driver.find_element(By.CSS_SELECTOR, \"html body ytd-app div#content.style-scope.ytd-app ytd-page-manager#page-manager.style-scope.ytd-app ytd-shorts.style-scope.ytd-page-manager div#shorts-container.style-scope.ytd-shorts\")\n",
    "driver.execute_script('arguments[0].scrollTop = arguments[0].scrollHeight;', scrollable_element)\n",
    "\n",
    "time.sleep(3)  # Wait for 3 seconds\n",
    "scrollable_element = driver.find_element(By.CSS_SELECTOR, \"html body ytd-app div#content.style-scope.ytd-app ytd-page-manager#page-manager.style-scope.ytd-app ytd-shorts.style-scope.ytd-page-manager div#shorts-container.style-scope.ytd-shorts\")\n",
    "driver.execute_script('arguments[0].scrollTop = arguments[0].scrollHeight;', scrollable_element)\n",
    "\n",
    "time.sleep(3)  # Wait for 3 seconds\n",
    "\n",
    "driver.find_element(By.CSS_SELECTOR, \".ytd-mini-guide-renderer:nth-child(1) > #endpoint\").click()\n",
    "# Iterate over the elements and get their CSS data\n",
    "driver.refresh()\n",
    "time.sleep(3)  # Wait for 3 seconds\n",
    "scrollable_element = driver.find_element(By.CSS_SELECTOR, \"div.ytd-app:nth-child(6)\")\n",
    "driver.execute_script(\"window.scrollTo(0, 1000);\")\n",
    "\n",
    "time.sleep(.5)  # Wait for 3 seconds\n",
    "driver.execute_script(\"window.scrollTo(0, 100000);\")\n",
    "time.sleep(.5)  # Wait for 3 seconds\n",
    "driver.execute_script(\"window.scrollTo(0, 100000);\")\n",
    "\n",
    "time.sleep(.5)  # Wait for 3 seconds\n",
    "driver.execute_script(\"window.scrollTo(0, 100000);\")\n",
    "\n",
    "time.sleep(.5)  # Wait for 3 seconds\n",
    "\n",
    "# Close the driver\n",
    "\n"
   ]
  },
  {
   "cell_type": "code",
   "execution_count": 154,
   "id": "7d14456c-2941-45c5-861b-377ad265cf13",
   "metadata": {
    "collapsed": true,
    "jupyter": {
     "outputs_hidden": true
    },
    "scrolled": true
   },
   "outputs": [
    {
     "name": "stdout",
     "output_type": "stream",
     "text": [
      "188\n"
     ]
    }
   ],
   "source": [
    "\n",
    "elements = driver.find_elements(By.CSS_SELECTOR,\"ytd-rich-grid-row.style-scope > div > ytd-rich-item-renderer> div > ytd-rich-grid-media:nth-child(1) > div:nth-child(1) > div:nth-child(3) \")\n",
    "dataset = []\n",
    "print(len(elements))\n",
    "for element in elements:\n",
    "    # Get the outer HTML of the element\n",
    "    text = element.text\n",
    "    text_array = text.splitlines()\n",
    "\n",
    "    child_element = element.find_element(By.CSS_SELECTOR,\"div:nth-child(3)  > a\")\n",
    "    link = child_element.get_attribute('href')\n",
    "    try:\n",
    "        text_array.append(link[25:])\n",
    "        dataset.append(text_array)\n",
    "    except:\n",
    "        continue\n",
    "    "
   ]
  },
  {
   "cell_type": "code",
   "execution_count": 166,
   "id": "e0d53a5a-6eed-4464-8b2a-dd668d86291c",
   "metadata": {},
   "outputs": [
    {
     "name": "stdout",
     "output_type": "stream",
     "text": [
      "2024-05-08-225040\n"
     ]
    }
   ],
   "source": [
    "\n",
    "import csv\n",
    "from datetime import datetime\n",
    "import time\n",
    "\n",
    "headers = [\"video_name\", \"chanel_display_name\", \"views\", 'age', 'chanel_id']  # Replace with your actual headers\n",
    "\n",
    "# Open the CSV file in write mode\n",
    "with open('output.csv', 'w', newline='') as file:\n",
    "    writer = csv.writer(file)\n",
    "\n",
    "    # Write the headers\n",
    "    writer.writerow(headers)\n",
    "\n",
    "    # Write the data\n",
    "    for data in dataset:\n",
    "        writer.writerow(data)"
   ]
  },
  {
   "cell_type": "code",
   "execution_count": 29,
   "id": "80b6c06b-162d-4eee-b8b7-0f6414d44b1d",
   "metadata": {},
   "outputs": [],
   "source": [
    "from bs4 import BeautifulSoup\n",
    "\n",
    "def print_css_tree(html):\n",
    "    soup = BeautifulSoup(html, 'html.parser')\n",
    "\n",
    "    def recursive_print(tag, prefix=\".\"):\n",
    "        if tag.name == '[document]':\n",
    "            for child in tag.children:\n",
    "                recursive_print(child, prefix)\n",
    "        else:\n",
    "            class_str = \".\".join(tag.get('class', []))\n",
    "            id_str = \"\" if tag.get('id') is None else \"#\" + tag.get('id')\n",
    "            print(f\"{prefix}{tag.name}{id_str}{class_str}\")\n",
    "            for child in tag.children:\n",
    "                if child.name is not None:\n",
    "                    recursive_print(child, prefix + \"  \")\n",
    "\n",
    "    recursive_print(soup)\n",
    "\n"
   ]
  },
  {
   "cell_type": "code",
   "execution_count": 176,
   "id": "761f37e7-0604-415c-b56f-3606212ca436",
   "metadata": {},
   "outputs": [],
   "source": [
    "\n",
    "from datetime import datetime\n",
    "savetime= datetime.now().strftime(\"%Y-%m-%d%H%M%S\")\n",
    "# Open the CSV file in write mode\n",
    "with open('data/output'+savetime+'.csv',  'w', newline='', encoding='utf-8') as file:\n",
    "    writer = csv.writer(file)\n",
    "\n",
    "    # Write the headers\n",
    "    writer.writerow(headers)\n",
    "\n",
    "    # Write the data\n",
    "    for data in dataset:\n",
    "        writer.writerow(data)"
   ]
  }
 ],
 "metadata": {
  "kernelspec": {
   "display_name": "Python 3 (ipykernel)",
   "language": "python",
   "name": "python3"
  },
  "language_info": {
   "codemirror_mode": {
    "name": "ipython",
    "version": 3
   },
   "file_extension": ".py",
   "mimetype": "text/x-python",
   "name": "python",
   "nbconvert_exporter": "python",
   "pygments_lexer": "ipython3",
   "version": "3.10.11"
  }
 },
 "nbformat": 4,
 "nbformat_minor": 5
}
