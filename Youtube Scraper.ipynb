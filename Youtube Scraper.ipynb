{
 "cells": [
  {
   "cell_type": "code",
   "execution_count": 9,
   "id": "f1cb0426-5e8b-471e-889a-bb2fb9aa0585",
   "metadata": {},
   "outputs": [],
   "source": [
    "from selenium import webdriver\n",
    "from selenium.webdriver.common.by import By\n",
    "from selenium.webdriver.common.action_chains import ActionChains\n",
    "from selenium.webdriver.support import expected_conditions\n",
    "from selenium.webdriver.support.wait import WebDriverWait\n",
    "from selenium.webdriver.common.keys import Keys\n",
    "from selenium.webdriver.common.desired_capabilities import DesiredCapabilities\n",
    "\n",
    "from selenium.webdriver.support import expected_conditions as EC\n",
    "import time\n",
    "\n",
    "# Initialize the Firefox webdriver\n",
    "driver = webdriver.Firefox()\n",
    "\n",
    "# Navigate to the webpage\n",
    "driver.get('https://www.youtube.com')\n",
    "\n",
    "# Find all elements with the class name 'ytd-video-meta-block'\n",
    "wait = WebDriverWait(driver, 10)\n",
    "element = wait.until(EC.presence_of_element_located((By.CSS_SELECTOR, \"html body ytd-app div#content.style-scope.ytd-app ytd-mini-guide-renderer.style-scope.ytd-app div#items.style-scope.ytd-mini-guide-renderer ytd-mini-guide-entry-renderer.style-scope.ytd-mini-guide-renderer a#endpoint.yt-simple-endpoint.style-scope.ytd-mini-guide-entry-renderer yt-icon#icon.guide-icon.style-scope.ytd-mini-guide-entry-renderer yt-icon-shape.style-scope.yt-icon icon-shape.yt-spec-icon-shape div\")))\n",
    "\n",
    "\n",
    "driver.find_element(By.CSS_SELECTOR, \".ytd-mini-guide-renderer:nth-child(2) > #endpoint\").click()\n",
    "\n",
    "time.sleep(3)  # Wait for 3 seconds\n",
    "scrollable_element = driver.find_element(By.CSS_SELECTOR, \"html body ytd-app div#content.style-scope.ytd-app ytd-page-manager#page-manager.style-scope.ytd-app ytd-shorts.style-scope.ytd-page-manager div#shorts-container.style-scope.ytd-shorts\")\n",
    "driver.execute_script('arguments[0].scrollTop = arguments[0].scrollHeight;', scrollable_element)\n",
    "\n",
    "time.sleep(3)  # Wait for 3 seconds\n",
    "scrollable_element = driver.find_element(By.CSS_SELECTOR, \"html body ytd-app div#content.style-scope.ytd-app ytd-page-manager#page-manager.style-scope.ytd-app ytd-shorts.style-scope.ytd-page-manager div#shorts-container.style-scope.ytd-shorts\")\n",
    "driver.execute_script('arguments[0].scrollTop = arguments[0].scrollHeight;', scrollable_element)\n",
    "\n",
    "time.sleep(3)  # Wait for 3 seconds\n",
    "\n",
    "driver.find_element(By.CSS_SELECTOR, \".ytd-mini-guide-renderer:nth-child(1) > #endpoint\").click()\n",
    "# Iterate over the elements and get their CSS data\n",
    "driver.refresh()\n",
    "\n",
    "# Close the driver\n",
    "time.sleep(3)  # Wait for 3 seconds\n"
   ]
  },
  {
   "cell_type": "code",
   "execution_count": 150,
   "id": "7d14456c-2941-45c5-861b-377ad265cf13",
   "metadata": {
    "scrolled": true
   },
   "outputs": [
    {
     "name": "stdout",
     "output_type": "stream",
     "text": [
      "[['MY BEST FRIEND WALKS AGAIN', 'Jordan Matter', '14M views', '11 days ago', 'jordanmatter'], ['Dad Baby | Full Episode | Bluey', 'Bluey - Official Channel', '7.7M views', '7 days ago', 'BlueyOfficialChannel'], ['24/7 Relaxing Fireplace Music🔥Crackling Fireplace with Piano Music for Sleep, Work, Study', 'Soothing Fireplace', '37 watching', 'LIVE', 'Soothingfireplacerelax'], [\"I Built Minecraft's Smallest Base...\", 'xNestorio', '698K views', '6 days ago', 'xNestorio'], ['Funny TikToks that Had me Rolling on the Floor! PT.21', 'Auburn', '366K views', '6 days ago', 'auburn4517'], ['Real Madrid vs. Bayern: Extended Highlights | UCL Semi-Finals 2nd Leg | CBS Sports Golazo', 'CBS Sports Golazo', '361K views', '2 hours ago', 'cbssportsgolazo'], ['RICH Step Dad CONTROLS Girl With MONEY, What Happens Next Is Shocking | Dhar Mann Studios', 'Dhar Mann Studios', '7.9M views', '3 months ago', 'DharMann'], [\"THIS ANGLO-AMERICAN FRY UP CHALLENGE HASN'T BEEN BEATEN | BeardMeatsFood\", 'BeardMeatsFood', '2.2M views', '3 days ago', 'Beardmeatsfood'], [\"LGS'de Bu Zamana Kadar Aldığın En Yüksek Puanı Alacaksın! | #lgs #lgs2024\", 'İrem Kayser', '615 views', '1 day ago', 'iremkayser'], ['Opening Up About Our Mental Health.', 'LOL Podcast ', '1.3M views', '7 days ago', 'LOLPodcast-Show'], ['🔴LIVE - Severe Weather Coverage With Storm Chasers On The Ground - Live Weather Channel...', \"Ryan Hall, Y'all\", '119K watching', 'LIVE', 'RyanHallYall'], ['FEEDING STARVING INFLUENCERS FT TARA YUMMY', 'Quenlin Blackwell', '1.2M views', '4 days ago', 'QUENBLACKWELL'], ['I Stayed in Every Hotel at Disney World', 'Ryan Trahan', '7.3M views', '4 days ago', 'ryan'], [\"SML Movie: Jeffy's Bowling Ball!\", 'SML', '2.6M views', '3 days ago', 'SMLMovies'], ['I BOUGHT MY DREAM HOUSE ... AGAIN', 'Mat Armstrong', '2M views', '2 days ago', 'MatArmstrongbmx'], ['Putin stays. Zelensky goes?', 'The Duran', '83K views', '7 hours ago', 'TheDuran'], ['Egg Drop From Space', 'Mark Rober', '99M views', '1 year ago', 'MarkRober'], ['The Demon of Chillingham Castle. (w/ Daz)', 'Sam and Colby', '10M views', '8 months ago', 'samandcolby'], [\"BREAKING NEWS: John Kennedy Gives Furious Speech Against Including Trans Athletes In Women's Sports\", 'Forbes Breaking News', '66K views', '6 hours ago', 'ForbesBreakingNews'], ['LEGO Fortnite | Star Wars - Rebel Adventure', 'Star Wars Italia', '294 views', '8 hours ago', 'StarWarsIT'], ['Sketch Jynxzi & CaseOH BEAT Minecraft', 'The Sketch Real', '459K views', '5 days ago', 'TheSketchReal'], ['FANTASTIC ROOM MAKEOVER CHALLENGE || Cool Crafts & DIY Items for House by 123 GO!', '123 GO!', '14M views', '1 year ago', '123GO_'], ['Bruno Mars, Cardi B, Maroon 5, Adele, Ed Sheeran, Miley Cyrus, The Weeknd, Sia - Billboard Hot 100', 'Pop Music', '493K views', 'Streamed 2 weeks ago', 'popmusic3689'], ['#5 MAVERICKS at #1 THUNDER | FULL GAME 1 HIGHLIGHTS | May 7, 2024', 'NBA', '1.2M views', '20 hours ago', 'NBA'], ['TikToks That Are Actually Relatable', 'SSSniperWolf', '1.1M views', '4 days ago', 'SSSniperWolf'], ['I World Premiered A Brand New Slot Machine!', 'Vegas Matt', '130K views', '6 hours ago', 'VegasMatt'], ['We Built a SECRET ROOM To Hide From My Dad ft/ Ben Azelart', 'Jordan Matter', '21M views', '2 months ago', 'jordanmatter'], ['Smooth Jazz • 3 Hours Smooth Jazz Saxophone Instrumental Music for Grownups and Other People', 'DrSaxLove', '12M views', '4 years ago', 'hannel/UCNJFXYXkXt_P8bJUxb21MpA'], ['DJ Akademiks: Drake Lost, here’s why & Brady Roast Untold Stories', 'FLAGRANT', '277K views', '9 hours ago', 'OfficialFlagrant'], [\"CHOPPING SILAGE & SHOPPING FOR NEW COMBINE! (2000'S SERIES)\", 'The Squad', '66K views', '5 days ago', 'SquadGamersHD'], ['Learning Videos for Toddlers | Animal Sounds, Farm Animals, Learn Colors, Numbers, Words | Speech', 'Ms Rachel - Toddler Learning Videos', '135M views', '2 years ago', 'msrachel'], [\"We bought 40 items from Temu, the online superstore with the #1 app. Here's what we got.\", 'East Idaho News', '953K views', '1 year ago', 'Eastidnews'], ['We Built Our Own Lightsabers', 'Dude Perfect', '3.7M views', '4 days ago', 'dudeperfect'], ['Can a College Football Draft Win Me a Super Bowl??', 'YoBoy PIZZA', '160K views', '3 days ago', 'YoBoyPizza'], ['10 minutes of best baseball tiktoks', 'Scrabik', '153K views', '2 months ago', 'Scrabik'], ['Lofi Music 📚 Music to put you in a better mood ~ Study music - lofi / relax / stress relief', 'Little Soul', '11K watching', 'LIVE', 'little_soul'], ['Tom und Jerry auf Deutsch | An der frischen Luft! | WB Kids', 'WB Kids Deutschland', '25M views', '1 year ago', 'WBKidsDeutschland'], ['TREATING MY BUNNY LIKE A REAL BABY FOR 24 HOURS CHALLENGE 👶🏻🍼💩', 'PurpleStars02', '144K views', '4 days ago', 'PurpleStars02'], ['Calling Him Out About the *Situation* - Dropouts #202', 'Dropouts Podcast', '417K views', '1 day ago', 'DropoutsPodcast'], ['The Bloom | Breakthrough In Kupiansk Direction | The Krasnohorivka Cauldron Is Brewing. MS 2024.05.8', 'Military Summary', '116K views', '5 hours ago', 'militarysummary'], ['#4 CANES NATIONAL BATTLE #1 WOW FACTOR NATIONAL IN GEORGIA | 15U WWBA PLAYOFFS', 'Black Cobra Media', '378K views', '10 months ago', 'BlackCobraMediaTV'], [\"Flagler's Train: The Florida Keys Over-Sea Railroad | Documentary\", 'South Florida PBS', '415K views', '1 year ago', 'SouthFloridaPBS'], ['Despicable Me 4 | Official Trailer 2', 'Illumination', '2.5M views', '1 day ago', 'illumination'], [\"BILLIONAIRES Won't Accept GIRL'S GOTH LOOK | Dhar Mann Studios\", 'Dhar Mann Studios', '2.9M views', '2 days ago', 'DharMann'], ['I Added Blox Fruit To Among Us', 'SSundee', '2.2M views', '6 days ago', 'SSundee'], [\"NFL 'NASTY' Spin Moves of the 2023-2024 Season\", 'Ding Productions', '51K views', '5 days ago', 'DingProductions'], [\"Gary Owen On Kevin Hart vs Katt Williams, Amanda Seales, Mo'Nique, Tyler Perry & Drake vs Kendrick\", 'Club Shay Shay', '385K views', '9 hours ago', 'ClubShayShay'], ['Vortex Cannon vs Drone', 'Mark Rober', '12M views', '2 weeks ago', 'MarkRober'], ['Deep Focus Music To Improve Concentration - 12 Hours of Ambient Study Music to Concentrate #745', 'Relaxing Melody', '540K views', 'Streamed 1 month ago', 'RelaxingMelody88'], ['EXTREME HIDE AND SEEK!!', 'Jordan Matter', '5.9M views', '4 days ago', 'jordanmatter'], ['PACKING for 12 KiDS! ROAD TRiP EDITiON! | *What not to do!*', 'Not Enough Nelsons', '3.9M views', '1 year ago', 'NotEnoughNelsons'], ['Nightly News Full Broadcast - May 3', 'NBC News', '596K views', '4 days ago', 'NBCNews'], [\"Conan Explains What Happened To His Body After “Hot Ones” | Conan O'Brien Needs A Friend\", 'Team Coco', '2.2M views', '9 days ago', 'TeamCoco'], ['Robin Trailer — \"Sway to My Beat\" | Honkai: Star Rail', 'Honkai: Star Rail', '1.5M views', '1 day ago', 'HonkaiStarRail'], ['Chloe Reveals Her Mom’s Reaction to Coming Out | Dance Moms: The Reunion | Dance Moms', 'Dance Moms', '670K views', '2 days ago', 'dancemoms'], ['BREAKING NEWS: Speaker Johnson, GOP Lawmakers Unveil Hardline Voter Integrity Legislation', 'Forbes Breaking News', '129K views', '8 hours ago', 'ForbesBreakingNews'], ['25 Min Beginner Kettlebell Workout for Fat Loss - Kettlebell Workouts for Beginners Men & Women', 'HASfit', '1.4M views', '7 years ago', 'HASfit'], ['MLB MOONSHOT Homeruns | April 2024', 'Dunham19', '51K views', '5 days ago', 'dunham19'], ['A NEW Trace! The FULL MH370 Story, so Far..', 'Mentour Pilot', '4M views', '1 month ago', 'MentourPilot'], ['Stop Overthinking - Beautiful Relaxing Music for Stress Relief, Mindful Escapes, Calm Your Mind #2', 'Healing Soul', '694K views', '6 months ago', 'hannel/UCnLjr0czO5zPsJYubbrvHCw'], ['LIVE SEVERE WEATHER KOAM update, May 8, 2024', 'KOAM News Now', '105K views', 'Streamed 2 hours ago', 'KOAMNewsNow'], ['Surviving in Smoke until Rank 34 🧀', 'Orange Juice Gaming', '724K views', '2 days ago', 'orangejuice'], ['Building the INTERIOR of my TINY HOUSE - Part 1', 'Drew Builds Stuff', '192K views', '1 day ago', 'DrewBuildsStuff'], ['Gentle music, calms the nervous system and pleases the soul - healing music for the heart', 'Serene Harmony', '945K views', 'Streamed 1 month ago', 'WorldofRemix-nl5fq'], ['Try Not To Make A Sound (Challenge)', 'Good Mythical Morning', '766K views', '6 days ago', 'GoodMythicalMorning'], ['The Early Spring Sunlight 🍃 Chill Spring Lofi 🍃 Morning Lofi To Make You Start Your Day Peacefully', 'Lofi Everyday ', '468 watching', 'LIVE', 'lofieveryday364'], [\"She's Not My Little Girl Anymore *Emotional*\", 'Jordan Matter', '20M views', '10 months ago', 'jordanmatter'], ['This Is What It Takes to Survive After the World Ends...', 'Fooster', '232K views', '4 days ago', 'thefoosterchannel'], ['Joe Rogan Experience #2147 - Mike Baker', 'PowerfulJRE', '212K views', '8 hours ago', 'joerogan'], ['The Game Show and the Murder | Full Episode', '48 Hours', '3.9M views', '7 months ago', '48hours'], ['TORNADO OUTBREAK Chase w Dominator 3 + Top Tier Chasers', 'Reed Timmer', '18K watching', 'LIVE', 'ReedTimmerWx'], ['Try Guys Ruin Baked Alaska • Phoning It In', 'The Try Guys', '820K views', '4 days ago', 'tryguys'], ['How to Prevent Skin Thinning & Boost Your Collagen! From a Dermatologist | Dr. Shereene Idriss', 'Dr. Shereene Idriss', '148K views', '4 days ago', 'shereeneidriss'], ['Ibiza Summer Mix 2023 🍓 Best Of Tropical Deep House Music Chill Out Mix 2023🍓 Chillout Lounge #117', 'Xdeep Mix', '1M views', 'Streamed 4 months ago', 'Fundraiser', 'raylefauneee-THR-Music'], ['BIG SURPRISE NEWS - Family Update Made Garrett Cry Happy Tears', 'The Bucket List Family', '234K views', '1 day ago', 'TheBucketListFamily'], ['Millionaire Finds Out CHILDHOOD LOVE Is HOMELESS, What Happens Next Is Shocking | Dhar Mann Studios', 'Dhar Mann Studios', '4.5M views', '7 days ago', 'DharMann'], ['🔥 Cozy Fireplace 4K (12 HOURS). Fireplace Ambience with Crackling Fire Sounds. Fireplace Burning 4K', 'FOBOS PLANET', '3.7M views', 'Streamed 6 months ago', 'FobosPlanet'], ['The Grand Canyon Explained | How the Earth Was Made (S2, E1) | Full Documentary | History', 'HISTORY', '4.8M views', '3 years ago', 'HISTORY'], ['Lots of NEW Disneyland Food Arrives for The Summer! | Summer Foodie Guide Disneyland 2024', 'Magic Journeys', '99K views', '5 days ago', 'Magic_Journeys'], ['I Attempted an 8 Player Pokemon Nuzlocke', 'PointCrow', '1.1M views', '4 days ago', 'PointCrow'], [\"Trump's Conspiracy Theory About Campus Protests; Lindell's Unhinged MAGA Rally Speech: A Closer Look\", 'Late Night with Seth Meyers', '1.4M views', '5 days ago', 'LateNightSeth'], ['Eating 7-ELEVEN BREAKFAST for 3 DAYS in Tokyo Japan | BEST EVER 7-Eleven Noodles?!', 'Strictly Dumpling', '252K views', '2 days ago', 'strictlydumpling'], ['Get Fit In 40! | Indoor Cycling HIIT Workout', 'GCN Training', '109K views', '1 year ago', 'GCNTraining'], [\"when you're on a deadline, listen to this dark academia playlist\", 'Toxic Drunker', '62K views', 'Streamed 12 days ago', 'ToxicDrunker_'], ['Unlock a new level of freshness and well-being with Haier UV Cool Connect PRO.', 'Haier Philippines Official', '3.1M views', '12 days ago', 'haierphilippinesofficial'], ['BAD BATCH FINAL EPISODE BREAKDOWN! Star Wars Easter Eggs You Missed!', 'New Rockstars', '192K views', '5 days ago', 'NewRockstars'], ['I Tried the WORST Controllers and WON - Fortnite', 'Sernando', '1.8M views', '1 year ago', 'Sernando'], ['lofi hip hop radio 📚 - beats to relax/study to', 'Lofi Girl', '17K watching', 'LIVE', 'LofiGirl'], ['Learning with Google | Reimagining Education', 'Google', '659K views', '3 years ago', 'Google'], ['The Roast Of Tom Brady Was FANTASTIC, \"Old School\" Comedy Is All The Way Back?! | Pat McAfee Reacts', 'The Pat McAfee Show', '555K views', '2 days ago', 'ThePatMcAfeeShow'], ['My unique hair made mom love me', 'MSA previously My Story Animated', '19M views', '1 year ago', 'MSA.official'], ['Trump To Stormy: You Remind Me Of My Daughter | Met Gala Looks | Dogs Dyed To Look Like Pandas', 'The Late Show with Stephen Colbert', '1.5M views', '21 hours ago', 'ColbertLateShow'], ['Soft Seaside Jazz Music - Relaxing Jazz For Happy and Peace Morning - Morning Jazz Delight', 'Jazz Harmony Hub', '423K views', 'Streamed 3 weeks ago', 'Jazz_Harmony_Hub1'], [\"WE'RE STOPPING CONSTRUCTION!!\", 'Trent & Allie', '172K views', '2 days ago', 'TrentandAllie'], ['Lionel Richie, Phil Collins, Elton John, Bee Gees, Eagles, Foreigner 📀 Old Love Songs 70s,80s,90s', 'Soft Rock Music', '1.1M views', 'Streamed 1 month ago', 'SoftRockMusic83'], ['1-888-45-CLOSET | Closet World® - Organizing Could Feel So Good! ♫ ♬', 'Closet World®', '1M views', '13 years ago', 'Closet_World'], [\"World's Largest Devil's Toothpaste Explosion\", 'Mark Rober', '93M views', '3 years ago', 'MarkRober'], ['#3 TIMBERWOLVES at #2 NUGGETS | FULL GAME 1 HIGHLIGHTS | May 4, 2024', 'NBA', '3.3M views', '3 days ago', 'NBA'], ['Learn Animals with Ms Rachel for Toddlers - Animal Sounds, Farm Animals, Nursery Rhymes & Kids Songs', 'Ms Rachel - Toddler Learning Videos', '299M views', '2 years ago', 'msrachel'], ['TikToks that feel ILLEGAL to watch', 'SSSniperWolf', '640K views', '3 days ago', 'SSSniperWolf'], ['The Weeknd, Bruno Mars, Dua Lipa, Adele, Maroon 5, Rihanna, Ed Sheeran - Billboard Top 50 This Week', 'Pop Music', '824K views', 'Streamed 2 weeks ago', 'popmusic3689'], ['The People v. Kouri Richins | Full Episode', '48 Hours', '2.3M views', '2 months ago', '48hours'], ['i hit the jackpot', 'spoonkid2', '463K views', '5 days ago', 'spoonkid2169'], ['Ｓｍｏｋｅ\\u3000Ａｎｄ\\u3000Ｃｈｉｌｌ 🚬 Lofi Hip Hop 🎵 [ Beats To Smoke / Chill / Relax / Stress Relief ]', 'Chill Melodies', '1.7M views', 'Streamed 2 months ago', 'ChillMelodies890'], ['Bluey SURPRISE Episode: Bluey has a BABY! But is the Dad Mackenzie or Jean Luc??? (Bluey Theory)', 'Aussie Girl Margie', '1.1M views', '2 weeks ago', 'aussiegirlmargie'], ['The 10 Lives of LDShadowLady | Afterlife Minecraft SMP The Movie', 'LDShadowLady', '774K views', '10 days ago', 'ldshadowlady'], ['Marjorie Taylor Greene begins effort to remove Speaker Johnson', 'CNN', '119K views', '3 hours ago', 'CNN'], ['Energizing Chair Yoga for Seniors & Beginners // 25 minute Dynamic Flow', 'SeniorShape Fitness', '254K views', '4 months ago', 'SeniorShapeFitness'], ['Entertain Your Pets 🐶😺📺[NO MID-ROLL ADS] 10 hour- Cat & Dog TV | Birds & Squirrels', 'Four Paws TV', '126K views', '1 month ago', 'fourpawstv'], ['Spring in the North after 7 Months of Winter', 'Jonna Jinton', '113K views', '1 day ago', 'jonnajinton'], ['Meet The Grahams (Diss Drake) • Traduction En Français • Kendrick Lamar', 'Liyah S’', '31K views', '4 days ago', 'liyah-mel'], ['Creation of the Great Lakes | How the Earth Was Made (S1, E7) | Full Episode | History', 'HISTORY', '8.8M views', '3 years ago', 'HISTORY'], ['The ABSOLUTE GUIDE To Legoland Florida!', 'Chrissa Travels', '340K views', '1 year ago', 'ChrissaTravels'], ['Backyard Squirrel Maze 1.0- Ninja Warrior Course', 'Mark Rober', '125M views', '3 years ago', 'MarkRober'], ['Relaxing Jazz music - Smooth Jazz music for working, studying, resting...', 'Classic Cafe', '109K views', 'Streamed 1 month ago', 'classiccafechannel'], ['Adele, Ed Sheeran, Maroon 5, Dua Lipa, Rihanna, Bruno Mars, Taylor Swift, Sia - Billboard Hot 100', 'Pop Music', '5.5M views', 'Streamed 4 weeks ago', 'popmusic3689'], ['Toddler Learning with Ms Rachel - Learn Zoo Animals - Kids Songs - Educational Videos for Toddlers', 'Ms Rachel - Toddler Learning Videos', '130M views', '5 months ago', 'msrachel'], ['America Unearthed: Ancient Ruins Buried Beneath a Texas Town (S2, E3) | Full Episode | History', 'HISTORY', '8.3M views', '3 years ago', 'HISTORY'], ['A Peaceful Place 🍃 Chill Morning Lofi 🍃 Spring Lofi To Make You Feel Fresh For The Spring Morning', 'Lofi Everyday ', '307 watching', 'LIVE', 'lofieveryday364'], [\"Arin's blind guesses are PHENOMENAL | Geoguesser [2]\", 'GameGrumps', '84K views', '8 hours ago', 'GameGrumps'], ['Beautiful relaxing music, Stop Thinking Too Much, Reduces Anxiety, Stress & Fatigue', 'Gentle Music Melodies', '413K views', 'Streamed 3 weeks ago', 'gentlemusicmelodies'], [\"Gil's Arena Reacts To The Celtics & Thunder Game 1 Wins\", \"Gil's Arena\", '103K views', 'Streamed 4 hours ago', 'GilsArena'], ['my small colorful bathroom makeover', 'TheSorryGirls', '120K views', '1 day ago', 'TheSorryGirls'], ['Bluey Seasons 1, 2, and 3 FULL EPISODES 💙 | Unicorse, Mini Bluey, Pass the Parcel, and More! | Bluey', 'Bluey - Official Channel', '61M views', '3 months ago', 'BlueyOfficialChannel'], ['Unit 8 APES Aquatic and Terrestrial Pollution Review - AP Environmental Science', 'Science Panda', '59K views', '3 years ago', 'SciencePanda'], ['The Pat McAfee Show Live | Wednesday May 8th, 2024', 'The Pat McAfee Show', '209K views', 'Streamed 5 hours ago', 'ThePatMcAfeeShow'], ['Cat TV: Squirrels, Birds, and More: Nature Fun for All (10 hours Cat & Do TV)', 'Red Squirrel Studios', '1.2M views', '1 year ago', 'RedSquirrelStudios'], ['Good music to start a new day full of energy | lofi hiphop mix/ lofi studying/ chillbeats', 'Lofi 코딩', '61K views', 'Streamed 4 months ago', 'lofi9260'], ['20 min Fat Burning Workout for TOTAL BEGINNERS (Achievable, No Equipment)', 'MadFit', '942K views', '3 months ago', 'MadFit'], ['The Murder of Timothy Coggins | Morbid | Podcast', 'Morbid A True Crime Podcast', '7.9K views', '9 days ago', 'AMorbidPodcast'], ['Going LIVE with Dale Jr. where we ask him YOUR questions from the chat! | Dale Jr. Download: Ask Jr', \"Dale Earnhardt Jr.'s Dirty Mo Media\", '14K views', 'Streamed 1 day ago', 'DirtyMoMedia'], ['DRAKE - THE HEART PART 6 [UNCUT]', 'Amin & Hugo', '35K views', '2 days ago', 'AminHugo'], ['Seaside Cafe Harmony - Tropical Beach Ambience with Jazz Coffee, Bossa Nova Music, and Ocean Sounds', 'Beach Coffee Shop', '370K views', 'Streamed 1 month ago', 'RubimediaFeb15-re5hs'], ['Reacting to Our Old Barbie Video Game - Merrell Twins', 'merrelltwins', '45K views', '1 day ago', 'merrelltwins'], ['Episode 2468 CWSA 05/08/24', 'Real Coffee with Scott Adams', '21K views', 'Streamed 9 hours ago', 'RealCoffeewithScottAdams'], ['Calm Jazz Music for Work, Study, Unwind☕Relaxing Jazz Instrumental Music | Cozy Coffee Shop Ambience', 'Cozy Coffee Shop', '35K views', 'Streamed 2 days ago', 'cozycoffeeshopofficial'], ['Learn Colors, Fruits and Vegetables with Ms Rachel | Toddler Learning Video | Speech | Educational', 'Ms Rachel - Toddler Learning Videos', '60M views', '2 years ago', 'msrachel'], ['report cards arrive, restaurant updates + huge announcement!!!', 'KKandbabyJ', '46K views', '1 day ago', 'kkandbabyj'], ['TV for Dogs! Chill Your Dog TV with Cats, Dogs and Nature! NEW 2019!', 'Relax My Dog - Relaxing Music for Dogs', '2.9M views', '4 years ago', 'relaxmydog'], ['DRAKE - FAMILY MATTERS', 'Drake', '18M views', '4 days ago', 'hannel/UCByOQJjav0CUDwxCk-jVNRQ'], ['Selects: How the Beagle Brigade Works | STUFF YOU SHOULD KNOW', 'Stuff You Should Know', '3.8K views', '9 days ago', 'stuffyoushouldknow'], ['Apple Event - May 7', 'Apple', '5.6M views', 'Streamed 1 day ago', 'Apple'], ['The Huge Tornado Near Columbia, Tennessee, As It Occurred Live - 5/8/24', 'Max Velocity - Severe Weather Center', '270K views', 'Streamed 1 hour ago', 'MaxVelocityWX'], ['LIVE: MA v. Karen Read Day 7 - Killer Or Cover-Up Murder Trial | COURT TV', 'COURT TV', '68K views', 'Streamed 5 hours ago', 'COURTTV'], ['Sample Breakdown: Drake - Family Matters', 'Tracklib', '42K views', '2 days ago', 'tracklib'], [\"Investigating Our Best Friend's Haunted House\", 'Sam and Colby', '11M views', '4 months ago', 'samandcolby'], ['Dedicated to that \"You-Time!\" #hereforeverystep', 'SOLE Fitness', '1.9M views', '5 months ago', 'Sole.Fitness'], ['The Weeknd, Bruno Mars, Dua Lipa, Adele, Maroon 5, Rihanna, Ed Sheeran - Billboard Top 50 This Week', 'Pop Music', '1M views', 'Streamed 1 month ago', 'popmusic3689'], ['Watch Morning Joe Highlights: May 8', 'MSNBC', '137K views', '6 hours ago', 'msnbc'], ['Olive Garden Conspiracy Investigation', 'Shane2', '1.8M views', '2 months ago', 'Shane2'], ['Squirrels, Bunnies & Birds | 10 Hour (No Ad Interruptions) Cat & Dog TV | Entertain your Pets 🐶😺', 'Four Paws TV', '49K views', '2 weeks ago', 'fourpawstv'], ['Music that make you feel positive and calm 🍃 lofi / relax / stress relief', 'Little Soul', '1.4M views', 'Streamed 1 year ago', 'little_soul'], [\"The Richest Family In My Town Claim I'm Their Daughter\", 'MSA previously My Story Animated', '18M views', '9 months ago', 'MSA.official'], ['Nightly News Full Broadcast - April 22', 'NBC News', '678K views', '2 weeks ago', 'NBCNews'], ['Country Songs 2024 - Morgan Wallen, Luke Combs, Luke Bryan, Chris Stapleton, Brett Young, Kane Brown', 'Country Hits Collection', '1.6M views', 'Streamed 1 month ago', 'countryhitscollection888'], ['Kendrick Lamar - meet the grahams (Türkçe Çeviri)', 'Cyle', '77K views', '4 days ago', 'Cylefam'], ['DOG TV: Video Entertain Keep Your Dog Happy When Home Alone - 12 Hours of Anti-Anxiety Music for Dog', 'TV For Dogs', '244K views', 'Streamed 2 months ago', 'TVfordogs-2106'], ['Relaxing Jazz Instrumental Music for Studying, Working☕Cozy Coffee Shop Ambience & Smooth Jazz Music', 'Cozy Coffee Shop', '30K views', 'Streamed 3 hours ago', 'cozycoffeeshopofficial'], ['First Sentences for Toddlers | Learn to Talk | Toddler Speech Delay | Speech Practice Video English', 'Ms Rachel - Toddler Learning Videos', '119M views', '2 years ago', 'msrachel'], ['Drake - Family Matters (Part 2) (Lyrics)', 'Justified Melody', '7.4K views', '4 days ago', 'JustifiedMelody'], ['The Power of the Wind | STUFF YOU SHOULD KNOW', 'Stuff You Should Know', '5.8K views', '2 weeks ago', 'stuffyoushouldknow'], ['🔴LIVE: Best of Bluey Seasons 1 - 3! 💙 | FULL EPISODES | 2 HOURS | Bluey', 'Bluey - Official Channel', '7.8M views', 'Streamed 1 month ago', 'BlueyOfficialChannel'], ['Miley Cyrus, The Weeknd, Ed Sheeran, Rihanna, Maroon 5, Adele, Dua Lipa, Ava Max - Billboard Hot 100', 'Pop Music', '748K views', 'Streamed 12 days ago', 'popmusic3689'], ['RDC Reacts to DRAKE - Family Matters', 'RDC Live', '610K views', '4 days ago', 'RDCLive1'], ['Deep Focus Music To Improve Concentration -12 Hours of Ambient Study Music to Concentrate #649', '4K Video Nature - Focus Music', '158K views', 'Streamed 3 months ago', 'hannel/UCNlfGuzOAKM1sycPuM_QTHg'], ['THE HEART PART 6 - DRAKE', 'Drake', '15M views', '2 days ago', 'hannel/UCByOQJjav0CUDwxCk-jVNRQ'], ['Drake - FAMILY MATTERS (Türkçe Altyazılı)', 'G-Fam', '42K views', '4 days ago', 'GFamCeviri'], ['Drake - FAMILY MATTERS (Lyrics) Kendrick Diss', 'BagOnly', '2.4M views', '4 days ago', 'BagOnly'], ['HE TOWED THE VAN! | DRAKE - FAMILY MATTERS (REACTION!!!)', 'No Life Shaq', '1.8M views', '4 days ago', 'NoLifeShaq'], ['Adele, Ed Sheeran, Maroon 5, Dua Lipa, Rihanna, Bruno Mars, Taylor Swift, Sia - Billboard Hot 100', 'Pop Music', '606K views', 'Streamed 2 weeks ago', 'popmusic3689']]\n"
     ]
    }
   ],
   "source": [
    "\n",
    "elements = driver.find_elements(By.CSS_SELECTOR,\"ytd-rich-grid-row.style-scope > div > ytd-rich-item-renderer> div > ytd-rich-grid-media:nth-child(1) > div:nth-child(1) > div:nth-child(3) \")\n",
    "dataset = []\n",
    "for element in elements:\n",
    "    # Get the outer HTML of the element\n",
    "    text = element.text\n",
    "    text_array = text.splitlines()\n",
    "\n",
    "    child_element = element.find_element(By.CSS_SELECTOR,\"div:nth-child(3)  > a\")\n",
    "    link = child_element.get_attribute('href')\n",
    "    try:\n",
    "        text_array.append(link[25:])\n",
    "        dataset.append(text_array)\n",
    "    except:\n",
    "        continue\n"
   ]
  },
  {
   "cell_type": "code",
   "execution_count": 151,
   "id": "e0d53a5a-6eed-4464-8b2a-dd668d86291c",
   "metadata": {},
   "outputs": [
    {
     "name": "stdout",
     "output_type": "stream",
     "text": [
      "['MY BEST FRIEND WALKS AGAIN', 'Jordan Matter', '14M views', '11 days ago', 'jordanmatter']\n"
     ]
    }
   ],
   "source": [
    "\n",
    "\n",
    "element = driver.find_element(By.CSS_SELECTOR,\"ytd-rich-grid-row.style-scope > div > ytd-rich-item-renderer> div > ytd-rich-grid-media:nth-child(1) > div:nth-child(1) > div:nth-child(3) > \")\n",
    "\n",
    "\n",
    "\n",
    "html = element.get_attribute('outerHTML')\n",
    "\n",
    "\n",
    "    # Print the CSS tree from the selected element onwards\n",
    "print_css_tree(html)\n",
    "\n"
   ]
  },
  {
   "cell_type": "code",
   "execution_count": 29,
   "id": "80b6c06b-162d-4eee-b8b7-0f6414d44b1d",
   "metadata": {},
   "outputs": [],
   "source": [
    "from bs4 import BeautifulSoup\n",
    "\n",
    "def print_css_tree(html):\n",
    "    soup = BeautifulSoup(html, 'html.parser')\n",
    "\n",
    "    def recursive_print(tag, prefix=\".\"):\n",
    "        if tag.name == '[document]':\n",
    "            for child in tag.children:\n",
    "                recursive_print(child, prefix)\n",
    "        else:\n",
    "            class_str = \".\".join(tag.get('class', []))\n",
    "            id_str = \"\" if tag.get('id') is None else \"#\" + tag.get('id')\n",
    "            print(f\"{prefix}{tag.name}{id_str}{class_str}\")\n",
    "            for child in tag.children:\n",
    "                if child.name is not None:\n",
    "                    recursive_print(child, prefix + \"  \")\n",
    "\n",
    "    recursive_print(soup)\n",
    "\n"
   ]
  },
  {
   "cell_type": "code",
   "execution_count": null,
   "id": "761f37e7-0604-415c-b56f-3606212ca436",
   "metadata": {},
   "outputs": [],
   "source": [
    "ytd-rich-grid-row.style-scope > div:nth-child(1) > ytd-rich-item-renderer:nth-child(2) > div:nth-child(1) > ytd-rich-grid-media:nth-child(1) > div:nth-child(1) > div:nth-child(3) > div:nth-child(2) > ytd-video-meta-block:nth-child(2) > div:nth-child(1)\n",
    "div.ytd-rich-grid-renderer:nth-child(6)\n",
    "html body ytd-app div#content.style-scope.ytd-app ytd-page-manager#page-manager.style-scope.ytd-app ytd-browse.style-scope.ytd-page-manager ytd-two-column-browse-results-renderer.style-scope.ytd-browse.grid.grid-disabled div#primary.style-scope.ytd-two-column-browse-results-renderer ytd-rich-grid-renderer.style-scope.ytd-two-column-browse-results-renderer div#contents.style-scope.ytd-rich-grid-renderer"
   ]
  }
 ],
 "metadata": {
  "kernelspec": {
   "display_name": "Python 3 (ipykernel)",
   "language": "python",
   "name": "python3"
  },
  "language_info": {
   "codemirror_mode": {
    "name": "ipython",
    "version": 3
   },
   "file_extension": ".py",
   "mimetype": "text/x-python",
   "name": "python",
   "nbconvert_exporter": "python",
   "pygments_lexer": "ipython3",
   "version": "3.10.11"
  }
 },
 "nbformat": 4,
 "nbformat_minor": 5
}
